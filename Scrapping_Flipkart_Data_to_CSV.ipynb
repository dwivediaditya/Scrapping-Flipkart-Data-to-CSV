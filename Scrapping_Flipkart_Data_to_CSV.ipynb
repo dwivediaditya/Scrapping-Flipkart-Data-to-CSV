{
  "nbformat": 4,
  "nbformat_minor": 0,
  "metadata": {
    "colab": {
      "name": "Scrapping Flipkart Data to CSV.ipynb",
      "provenance": [],
      "collapsed_sections": []
    },
    "kernelspec": {
      "name": "python3",
      "display_name": "Python 3"
    }
  },
  "cells": [
    {
      "cell_type": "code",
      "metadata": {
        "id": "2dplw4CvDAcf",
        "colab_type": "code",
        "colab": {
          "base_uri": "https://localhost:8080/",
          "height": 85
        },
        "outputId": "f4235c1c-fb88-4f92-8d25-8064778950b3"
      },
      "source": [
        "! pip install bs4\n",
        "! pip install urllib"
      ],
      "execution_count": 2,
      "outputs": [
        {
          "output_type": "stream",
          "text": [
            "Requirement already satisfied: bs4 in /usr/local/lib/python3.6/dist-packages (0.0.1)\n",
            "Requirement already satisfied: beautifulsoup4 in /usr/local/lib/python3.6/dist-packages (from bs4) (4.6.3)\n",
            "\u001b[31mERROR: Could not find a version that satisfies the requirement urllib (from versions: none)\u001b[0m\n",
            "\u001b[31mERROR: No matching distribution found for urllib\u001b[0m\n"
          ],
          "name": "stdout"
        }
      ]
    },
    {
      "cell_type": "code",
      "metadata": {
        "id": "7fhcW3hKDXbh",
        "colab_type": "code",
        "colab": {}
      },
      "source": [
        "from bs4 import BeautifulSoup as soup\n",
        "from urllib.request import urlopen as uReq\n",
        "\n",
        "my_url=\"https://www.flipkart.com/search?q=samsung+mobiles&sid=tyy%2C4io&as=on&as-show=on&otracker=AS_QueryStore_HistoryAutoSuggest_0_2&otracker1=AS_QueryStore_HistoryAutoSuggest_0_2&as-pos=0&as-type=HISTORY&as-searchtext=sa\"\n",
        "\n",
        "uClient = uReq(my_url)\n",
        "page_html = uClient.read()\n",
        "uClient.close()\n",
        "page_soup = soup(page_html, \"html.parser\")"
      ],
      "execution_count": 3,
      "outputs": []
    },
    {
      "cell_type": "markdown",
      "metadata": {
        "id": "Yk-Q1nGND3il",
        "colab_type": "text"
      },
      "source": [
        "Now let’s see how many HTML containers are present in this link:"
      ]
    },
    {
      "cell_type": "code",
      "metadata": {
        "id": "GOKtsdsnDy0l",
        "colab_type": "code",
        "colab": {
          "base_uri": "https://localhost:8080/",
          "height": 34
        },
        "outputId": "c6ee1b40-e008-4cf5-a24a-f3acb3d18076"
      },
      "source": [
        "containers = page_soup.findAll(\"div\", { \"class\": \"_3O0U0u\"})\n",
        "print(len(containers))"
      ],
      "execution_count": 4,
      "outputs": [
        {
          "output_type": "stream",
          "text": [
            "24\n"
          ],
          "name": "stdout"
        }
      ]
    },
    {
      "cell_type": "code",
      "metadata": {
        "id": "pL1Ebkn3EB29",
        "colab_type": "code",
        "colab": {
          "base_uri": "https://localhost:8080/",
          "height": 1000
        },
        "outputId": "19356ddb-a468-40bb-9655-f14a5ceda792"
      },
      "source": [
        "print(soup.prettify(containers[0]))"
      ],
      "execution_count": 5,
      "outputs": [
        {
          "output_type": "stream",
          "text": [
            "<div class=\"_3O0U0u\">\n",
            " <div data-id=\"MOBFPNPS6QGTKBQB\" style=\"width:100%\">\n",
            "  <div class=\"_1UoZlX\">\n",
            "   <a class=\"_31qSD5\" href=\"/samsung-galaxy-m31-space-black-128-gb/p/itm283aed3c3e685?pid=MOBFPNPS6QGTKBQB&amp;lid=LSTMOBFPNPS6QGTKBQBWLJMAO&amp;marketplace=FLIPKART&amp;srno=s_1_1&amp;otracker=AS_QueryStore_HistoryAutoSuggest_0_2&amp;otracker1=AS_QueryStore_HistoryAutoSuggest_0_2&amp;fm=organic&amp;iid=7a80ff2a-4047-4244-b179-b0c55283e853.MOBFPNPS6QGTKBQB.SEARCH&amp;ssid=ovz12skbpc0000001597242292181&amp;qH=0258c7d48242959a\" rel=\"noopener noreferrer\" target=\"_blank\">\n",
            "    <div class=\"_3SQWE6\">\n",
            "     <div class=\"_1OCn9C\">\n",
            "      <div>\n",
            "       <div class=\"_3BTv9X\" style=\"height:200px;width:200px\">\n",
            "        <img alt=\"Samsung Galaxy M31 (Space Black, 128 GB)\" class=\"_1Nyybr\" src=\"//img1a.flixcart.com/www/linchpin/fk-cp-zion/img/placeholder_9951d0.svg\"/>\n",
            "       </div>\n",
            "      </div>\n",
            "     </div>\n",
            "     <div class=\"_2lesQu\">\n",
            "      <div class=\"_1O_CiZ\">\n",
            "       <span class=\"_1iHA1p\">\n",
            "        <div class=\"_2kFyHg\">\n",
            "         <label>\n",
            "          <input class=\"_3uUUD5\" readonly=\"\" type=\"checkbox\"/>\n",
            "          <div class=\"_1p7h2j\">\n",
            "          </div>\n",
            "         </label>\n",
            "        </div>\n",
            "       </span>\n",
            "       <label class=\"_10TB-Q\">\n",
            "        <span>\n",
            "         Add to Compare\n",
            "        </span>\n",
            "       </label>\n",
            "      </div>\n",
            "     </div>\n",
            "     <div class=\"_3gDSOa _32A6AP\">\n",
            "      <div class=\"DsQ2eg\">\n",
            "       <svg class=\"_2oLiqr\" height=\"16\" viewbox=\"0 0 20 16\" width=\"16\" xmlns=\"http://www.w3.org/2000/svg\">\n",
            "        <path class=\"_35Y7Yo\" d=\"M8.695 16.682C4.06 12.382 1 9.536 1 6.065 1 3.219 3.178 1 5.95 1c1.566 0 3.069.746 4.05 1.915C10.981 1.745 12.484 1 14.05 1 16.822 1 19 3.22 19 6.065c0 3.471-3.06 6.316-7.695 10.617L10 17.897l-1.305-1.215z\" fill=\"#2874F0\" fill-rule=\"evenodd\" opacity=\".9\" stroke=\"#FFF\">\n",
            "        </path>\n",
            "       </svg>\n",
            "      </div>\n",
            "     </div>\n",
            "    </div>\n",
            "    <div class=\"_1-2Iqu row\">\n",
            "     <div class=\"col col-7-12\">\n",
            "      <div class=\"_3wU53n\">\n",
            "       Samsung Galaxy M31 (Space Black, 128 GB)\n",
            "      </div>\n",
            "      <div class=\"niH0FQ\">\n",
            "       <span class=\"_2_KrJI\" id=\"productRating_LSTMOBFPNPS6QGTKBQBWLJMAO_MOBFPNPS6QGTKBQB_\">\n",
            "        <div class=\"hGSR34\">\n",
            "         4.4\n",
            "         <img class=\"_2lQ_WZ\" src=\"data:image/svg+xml;base64,PHN2ZyB4bWxucz0iaHR0cDovL3d3dy53My5vcmcvMjAwMC9zdmciIHdpZHRoPSIxMyIgaGVpZ2h0PSIxMiI+PHBhdGggZmlsbD0iI0ZGRiIgZD0iTTYuNSA5LjQzOWwtMy42NzQgMi4yMy45NC00LjI2LTMuMjEtMi44ODMgNC4yNTQtLjQwNEw2LjUuMTEybDEuNjkgNC4wMSA0LjI1NC40MDQtMy4yMSAyLjg4Mi45NCA0LjI2eiIvPjwvc3ZnPg==\"/>\n",
            "        </div>\n",
            "       </span>\n",
            "       <span class=\"_38sUEc\">\n",
            "        <span>\n",
            "         <span>\n",
            "          517 Ratings\n",
            "         </span>\n",
            "         <span class=\"_1VpSqZ\">\n",
            "          &amp;\n",
            "         </span>\n",
            "         <span>\n",
            "          50 Reviews\n",
            "         </span>\n",
            "        </span>\n",
            "       </span>\n",
            "      </div>\n",
            "      <div class=\"_3ULzGw\">\n",
            "       <ul class=\"vFw0gD\">\n",
            "        <li class=\"tVe95H\">\n",
            "         6 GB RAM | 128 GB ROM | Expandable Upto 512 GB\n",
            "        </li>\n",
            "        <li class=\"tVe95H\">\n",
            "         16.26 cm (6.4 inch) Full HD+ Display\n",
            "        </li>\n",
            "        <li class=\"tVe95H\">\n",
            "         64MP + 8MP + 5MP + 5MP | 32MP Front Camera\n",
            "        </li>\n",
            "        <li class=\"tVe95H\">\n",
            "         6000 mAh Battery\n",
            "        </li>\n",
            "        <li class=\"tVe95H\">\n",
            "         Samsung Exynos 9 Octa 9611 Processor\n",
            "        </li>\n",
            "        <li class=\"tVe95H\">\n",
            "         1 year\n",
            "        </li>\n",
            "       </ul>\n",
            "      </div>\n",
            "     </div>\n",
            "     <div class=\"col col-5-12 _2o7WAb\">\n",
            "      <div class=\"_6BWGkk\">\n",
            "       <div class=\"_1uv9Cb\">\n",
            "        <div class=\"_1vC4OE _2rQ-NK\">\n",
            "         ₹19,850\n",
            "        </div>\n",
            "       </div>\n",
            "      </div>\n",
            "      <div class=\"_3n6o0t\">\n",
            "       <img height=\"21\" src=\"//img1a.flixcart.com/www/linchpin/fk-cp-zion/img/fa_8b4b59.png\"/>\n",
            "      </div>\n",
            "      <div class=\"_2nE8_R\">\n",
            "       <div class=\"_3_G5Wj\" style=\"color:#000000;font-size:14px;font-family:inherit;font-weight:normal\">\n",
            "        No Cost EMI\n",
            "       </div>\n",
            "      </div>\n",
            "     </div>\n",
            "    </div>\n",
            "   </a>\n",
            "  </div>\n",
            " </div>\n",
            "</div>\n"
          ],
          "name": "stdout"
        }
      ]
    },
    {
      "cell_type": "code",
      "metadata": {
        "id": "4E2kmX4ZENVW",
        "colab_type": "code",
        "colab": {
          "base_uri": "https://localhost:8080/",
          "height": 34
        },
        "outputId": "b418a3fc-e24e-4d45-8fa7-108305e83792"
      },
      "source": [
        "container = containers[0]\n",
        "print(container.div.img[\"alt\"])"
      ],
      "execution_count": 6,
      "outputs": [
        {
          "output_type": "stream",
          "text": [
            "Samsung Galaxy M31 (Space Black, 128 GB)\n"
          ],
          "name": "stdout"
        }
      ]
    },
    {
      "cell_type": "code",
      "metadata": {
        "id": "RvK3RTs9EQzt",
        "colab_type": "code",
        "colab": {
          "base_uri": "https://localhost:8080/",
          "height": 34
        },
        "outputId": "8af0cd90-2759-4575-a898-7e32f52c0d39"
      },
      "source": [
        "price = container.findAll(\"div\", {\"class\": \"col col-5-12 _2o7WAb\"})\n",
        "print(price[0].text)"
      ],
      "execution_count": 7,
      "outputs": [
        {
          "output_type": "stream",
          "text": [
            "₹19,850No Cost EMI\n"
          ],
          "name": "stdout"
        }
      ]
    },
    {
      "cell_type": "code",
      "metadata": {
        "id": "Z9Mf7sLYEYD4",
        "colab_type": "code",
        "colab": {
          "base_uri": "https://localhost:8080/",
          "height": 34
        },
        "outputId": "bc2d4960-3607-4e9b-e65b-93f56eb42a29"
      },
      "source": [
        "ratings = container.findAll(\"div\", {\"class\": \"niH0FQ\"})\n",
        "print(ratings[0].text)"
      ],
      "execution_count": 8,
      "outputs": [
        {
          "output_type": "stream",
          "text": [
            "4.4517 Ratings & 50 Reviews\n"
          ],
          "name": "stdout"
        }
      ]
    },
    {
      "cell_type": "code",
      "metadata": {
        "id": "52aFNKgxEbt9",
        "colab_type": "code",
        "colab": {
          "base_uri": "https://localhost:8080/",
          "height": 34
        },
        "outputId": "7eabe8a5-7a41-4918-b4f5-9c497acbf8be"
      },
      "source": [
        "filename = \"products.csv\"\n",
        "f = open(filename, \"w\")\n",
        "headers = \"Product_Name, Pricing, Ratings \\n\"\n",
        "f.write(headers)"
      ],
      "execution_count": 9,
      "outputs": [
        {
          "output_type": "execute_result",
          "data": {
            "text/plain": [
              "32"
            ]
          },
          "metadata": {
            "tags": []
          },
          "execution_count": 9
        }
      ]
    },
    {
      "cell_type": "code",
      "metadata": {
        "id": "mfAjkosKEf5i",
        "colab_type": "code",
        "colab": {
          "base_uri": "https://localhost:8080/",
          "height": 1000
        },
        "outputId": "3093821d-d1f9-469e-b4cf-474fd34ad2e9"
      },
      "source": [
        "for container in containers:\n",
        "    product_name = container.div.img[\"alt\"]\n",
        "    price_container = container.findAll(\"div\", {\"class\": \"col col-5-12 _2o7WAb\"})\n",
        "    price = price_container[0].text.strip()\n",
        "\n",
        "    rating_container = container.findAll(\"div\", {\"class\": \"niH0FQ\"})\n",
        "    rating = rating_container[0].text\n",
        "    print(\"Product_Name:\"+ product_name)\n",
        "    print(\"Price: \" + price)\n",
        "    print(\"Ratings:\" + rating)"
      ],
      "execution_count": 10,
      "outputs": [
        {
          "output_type": "stream",
          "text": [
            "Product_Name:Samsung Galaxy M31 (Space Black, 128 GB)\n",
            "Price: ₹19,850No Cost EMI\n",
            "Ratings:4.4517 Ratings & 50 Reviews\n",
            "Product_Name:Samsung Galaxy M01 (Black, 32 GB)\n",
            "Price: ₹9,479₹9,9394% off\n",
            "Ratings:4.25,371 Ratings & 391 Reviews\n",
            "Product_Name:Samsung Galaxy A80 (Phantom Black, 128 GB)\n",
            "Price: ₹31,999₹39,99920% off\n",
            "Ratings:4.44,411 Ratings & 591 Reviews\n",
            "Product_Name:Samsung Galaxy M21 (Midnight Blue, 64 GB)\n",
            "Price: ₹15,844₹15,990No Cost EMI\n",
            "Ratings:4.3405 Ratings & 27 Reviews\n",
            "Product_Name:Samsung Galaxy A31 (Prism Crush Blue, 128 GB)\n",
            "Price: ₹20,999₹23,99912% offNo Cost EMIUpto ₹13,150 Off on Exchange\n",
            "Ratings:4.33,109 Ratings & 293 Reviews\n",
            "Product_Name:Samsung Galaxy A51 (Prism Crush Black, 128 GB)\n",
            "Price: ₹23,999₹25,9997% offNo Cost EMIUpto ₹13,150 Off on Exchange\n",
            "Ratings:4.44,284 Ratings & 489 Reviews\n",
            "Product_Name:Samsung Galaxy M31 (Ocean Blue, 64 GB)\n",
            "Price: ₹18,988No Cost EMI\n",
            "Ratings:4.4517 Ratings & 50 Reviews\n",
            "Product_Name:Samsung Guru Music 2\n",
            "Price: ₹1,950No Cost EMI\n",
            "Ratings:4.31,42,615 Ratings & 14,447 Reviews\n",
            "Product_Name:Samsung Galaxy M11 (Black, 64 GB)\n",
            "Price: ₹13,944₹14,6995% off\n",
            "Ratings:4.22,933 Ratings & 238 Reviews\n",
            "Product_Name:Samsung Galaxy A21s (Blue, 64 GB)\n",
            "Price: ₹15,999₹17,99911% offUpto ₹13,150 Off on Exchange\n",
            "Ratings:4.23,570 Ratings & 332 Reviews\n",
            "Product_Name:Samsung Galaxy A21s (Black, 64 GB)\n",
            "Price: ₹15,999₹17,99911% offUpto ₹13,150 Off on Exchange\n",
            "Ratings:4.23,570 Ratings & 332 Reviews\n",
            "Product_Name:Samsung M01 core (Blue, 32 GB)\n",
            "Price: ₹7,373No Cost EMI\n",
            "Ratings:3.73 Ratings & 0 Reviews\n",
            "Product_Name:Samsung M01 core (Black, 32 GB)\n",
            "Price: ₹7,339No Cost EMI\n",
            "Ratings:3.73 Ratings & 0 Reviews\n",
            "Product_Name:Samsung Galaxy M31 (Ocean Blue, 128 GB)\n",
            "Price: ₹19,928No Cost EMI\n",
            "Ratings:4.4517 Ratings & 50 Reviews\n",
            "Product_Name:Samsung Galaxy M11 (Metallic Blue, 64 GB)\n",
            "Price: ₹14,360\n",
            "Ratings:4.22,933 Ratings & 238 Reviews\n",
            "Product_Name:Samsung Galaxy M11 (Violet, 32 GB)\n",
            "Price: ₹12,499₹12,519\n",
            "Ratings:4.24,720 Ratings & 407 Reviews\n",
            "Product_Name:Samsung Galaxy M11 (Violet, 64 GB)\n",
            "Price: ₹14,490\n",
            "Ratings:4.22,933 Ratings & 238 Reviews\n",
            "Product_Name:Samsung Galaxy M21 (Midnight Blue, 128 GB)\n",
            "Price: ₹17,887No Cost EMI\n",
            "Ratings:4.395 Ratings & 5 Reviews\n",
            "Product_Name:Samsung Galaxy M30S (Black, 128 GB)\n",
            "Price: ₹17,715₹17,9961% offNo Cost EMI\n",
            "Ratings:4.33,356 Ratings & 299 Reviews\n",
            "Product_Name:Samsung Guru 1200\n",
            "Price: ₹1,410No Cost EMI\n",
            "Ratings:4.31,27,240 Ratings & 12,070 Reviews\n",
            "Product_Name:Samsung Galaxy A51 (Prism Crush Blue, 128 GB)\n",
            "Price: ₹23,999₹25,9997% offNo Cost EMIUpto ₹13,150 Off on Exchange\n",
            "Ratings:4.44,284 Ratings & 489 Reviews\n",
            "Product_Name:Samsung Galaxy A21s (White, 64 GB)\n",
            "Price: ₹15,999₹17,99911% offUpto ₹13,150 Off on Exchange\n",
            "Ratings:4.23,570 Ratings & 332 Reviews\n",
            "Product_Name:Samsung Metro 313 Dual Sim\n",
            "Price: ₹2,500No Cost EMI\n",
            "Ratings:4.38,886 Ratings & 867 Reviews\n",
            "Product_Name:Samsung Guru FM Plus\n",
            "Price: ₹1,662No Cost EMI\n",
            "Ratings:4.217,794 Ratings & 1,729 Reviews\n"
          ],
          "name": "stdout"
        }
      ]
    },
    {
      "cell_type": "code",
      "metadata": {
        "id": "cszVXj3TEj0R",
        "colab_type": "code",
        "colab": {}
      },
      "source": [
        ""
      ],
      "execution_count": null,
      "outputs": []
    }
  ]
}